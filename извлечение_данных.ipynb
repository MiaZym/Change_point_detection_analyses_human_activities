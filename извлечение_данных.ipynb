{
  "nbformat": 4,
  "nbformat_minor": 0,
  "metadata": {
    "colab": {
      "provenance": []
    },
    "kernelspec": {
      "name": "python3",
      "display_name": "Python 3"
    },
    "language_info": {
      "name": "python"
    }
  },
  "cells": [
    {
      "cell_type": "code",
      "execution_count": null,
      "metadata": {
        "id": "X3TLa2dtOGmg"
      },
      "outputs": [],
      "source": [
        "from google.colab import drive\n",
        "import pandas as pd\n",
        "import os"
      ]
    },
    {
      "cell_type": "markdown",
      "source": [
        "# Импорт и сохранение в DataFrame"
      ],
      "metadata": {
        "id": "C_OgEevvkNbM"
      }
    },
    {
      "cell_type": "code",
      "source": [
        "subjects = ['proband' + str(i) for i in range(1,16)]\n",
        "\n",
        "acc_data = pd.DataFrame()\n",
        "\n",
        "for subject in subjects:\n",
        "    for f in os.listdir(os.path.join('/content/drive/MyDrive/Colab Notebooks/Data',subject,'data','acc')):\n",
        "        if f.endswith('.csv'):\n",
        "          path = os.path.join('/content/drive/MyDrive/Colab Notebooks/Data',subject,'data','acc', f)\n",
        "          df = pd.read_csv(path, index_col= 'id')\n",
        "          df['Subject'] = subject\n",
        "          df['Activity'] = f.split('_')[1]\n",
        "          df['Body_part'] = f.split('_')[-1].split('.')[0]\n",
        "          acc_data = pd.concat([acc_data, df])\n",
        ""
      ],
      "metadata": {
        "id": "o_NpoQiDOQJL"
      },
      "execution_count": null,
      "outputs": []
    },
    {
      "cell_type": "markdown",
      "source": [
        "Меняем время"
      ],
      "metadata": {
        "id": "mD_9K-4DkTqX"
      }
    },
    {
      "cell_type": "code",
      "source": [
        "acc_data[\"datetime\"] = pd.to_datetime(acc_data[\"attr_time\"], unit=\"ms\")"
      ],
      "metadata": {
        "id": "LM_nw5HuOQLn"
      },
      "execution_count": null,
      "outputs": []
    },
    {
      "cell_type": "code",
      "source": [
        "acc_data = acc_data.drop('attr_time', axis=1)"
      ],
      "metadata": {
        "id": "IXAPQwrOOQOR"
      },
      "execution_count": null,
      "outputs": []
    },
    {
      "cell_type": "markdown",
      "source": [
        "# Сохранение"
      ],
      "metadata": {
        "id": "lmdGsohTOZPL"
      }
    },
    {
      "cell_type": "code",
      "source": [
        "acc_data.to_csv('/content/drive/MyDrive/Colab Notebooks/all_data_withoutnormaliz.csv')"
      ],
      "metadata": {
        "id": "emMmadtKObIY"
      },
      "execution_count": null,
      "outputs": []
    },
    {
      "cell_type": "markdown",
      "source": [
        "сохраним базовые активности"
      ],
      "metadata": {
        "id": "uTzZ4t_HvAXK"
      }
    },
    {
      "cell_type": "code",
      "source": [
        "acc_data1 = acc_data[(acc_data['Activity']=='running')| (acc_data['Activity']=='standing') |(acc_data['Activity']=='walking')]"
      ],
      "metadata": {
        "id": "AqwFqU6Av30J"
      },
      "execution_count": null,
      "outputs": []
    },
    {
      "cell_type": "code",
      "source": [
        "acc_data1"
      ],
      "metadata": {
        "colab": {
          "base_uri": "https://localhost:8080/",
          "height": 455
        },
        "id": "1oNO6HSyxBz5",
        "outputId": "fa2b1325-7ca6-4cf8-fb08-bfe2007e81e0"
      },
      "execution_count": null,
      "outputs": [
        {
          "output_type": "execute_result",
          "data": {
            "text/plain": [
              "         attr_x    attr_y    attr_z    Subject Activity Body_part  \\\n",
              "id                                                                  \n",
              "1     -3.585916  9.165603  0.539892   proband1  running      head   \n",
              "2     -3.438672  9.077616  0.606332   proband1  running      head   \n",
              "3     -3.210625  8.965687  0.752976   proband1  running      head   \n",
              "4     -3.034052  8.980651  0.857124   proband1  running      head   \n",
              "5     -2.876035  9.050681  0.939126   proband1  running      head   \n",
              "...         ...       ...       ...        ...      ...       ...   \n",
              "33788 -8.334216  5.079897  0.163404  proband15  running      head   \n",
              "33789 -8.551490  4.990115  0.199317  proband15  running      head   \n",
              "33790 -8.688558  4.890756  0.349553  proband15  running      head   \n",
              "33791 -8.421006  4.831499  0.325611  proband15  running      head   \n",
              "33792 -8.532336  4.729147  0.412401  proband15  running      head   \n",
              "\n",
              "                     datetime  \n",
              "id                             \n",
              "1     2015-07-04 07:38:09.002  \n",
              "2     2015-07-04 07:38:09.021  \n",
              "3     2015-07-04 07:38:09.042  \n",
              "4     2015-07-04 07:38:09.062  \n",
              "5     2015-07-04 07:38:09.081  \n",
              "...                       ...  \n",
              "33788 2015-07-18 15:01:05.915  \n",
              "33789 2015-07-18 15:01:05.933  \n",
              "33790 2015-07-18 15:01:05.953  \n",
              "33791 2015-07-18 15:01:05.975  \n",
              "33792 2015-07-18 15:01:05.992  \n",
              "\n",
              "[7153979 rows x 7 columns]"
            ],
            "text/html": [
              "\n",
              "  <div id=\"df-ba3d4098-fe76-4058-b46c-285c6f482592\">\n",
              "    <div class=\"colab-df-container\">\n",
              "      <div>\n",
              "<style scoped>\n",
              "    .dataframe tbody tr th:only-of-type {\n",
              "        vertical-align: middle;\n",
              "    }\n",
              "\n",
              "    .dataframe tbody tr th {\n",
              "        vertical-align: top;\n",
              "    }\n",
              "\n",
              "    .dataframe thead th {\n",
              "        text-align: right;\n",
              "    }\n",
              "</style>\n",
              "<table border=\"1\" class=\"dataframe\">\n",
              "  <thead>\n",
              "    <tr style=\"text-align: right;\">\n",
              "      <th></th>\n",
              "      <th>attr_x</th>\n",
              "      <th>attr_y</th>\n",
              "      <th>attr_z</th>\n",
              "      <th>Subject</th>\n",
              "      <th>Activity</th>\n",
              "      <th>Body_part</th>\n",
              "      <th>datetime</th>\n",
              "    </tr>\n",
              "    <tr>\n",
              "      <th>id</th>\n",
              "      <th></th>\n",
              "      <th></th>\n",
              "      <th></th>\n",
              "      <th></th>\n",
              "      <th></th>\n",
              "      <th></th>\n",
              "      <th></th>\n",
              "    </tr>\n",
              "  </thead>\n",
              "  <tbody>\n",
              "    <tr>\n",
              "      <th>1</th>\n",
              "      <td>-3.585916</td>\n",
              "      <td>9.165603</td>\n",
              "      <td>0.539892</td>\n",
              "      <td>proband1</td>\n",
              "      <td>running</td>\n",
              "      <td>head</td>\n",
              "      <td>2015-07-04 07:38:09.002</td>\n",
              "    </tr>\n",
              "    <tr>\n",
              "      <th>2</th>\n",
              "      <td>-3.438672</td>\n",
              "      <td>9.077616</td>\n",
              "      <td>0.606332</td>\n",
              "      <td>proband1</td>\n",
              "      <td>running</td>\n",
              "      <td>head</td>\n",
              "      <td>2015-07-04 07:38:09.021</td>\n",
              "    </tr>\n",
              "    <tr>\n",
              "      <th>3</th>\n",
              "      <td>-3.210625</td>\n",
              "      <td>8.965687</td>\n",
              "      <td>0.752976</td>\n",
              "      <td>proband1</td>\n",
              "      <td>running</td>\n",
              "      <td>head</td>\n",
              "      <td>2015-07-04 07:38:09.042</td>\n",
              "    </tr>\n",
              "    <tr>\n",
              "      <th>4</th>\n",
              "      <td>-3.034052</td>\n",
              "      <td>8.980651</td>\n",
              "      <td>0.857124</td>\n",
              "      <td>proband1</td>\n",
              "      <td>running</td>\n",
              "      <td>head</td>\n",
              "      <td>2015-07-04 07:38:09.062</td>\n",
              "    </tr>\n",
              "    <tr>\n",
              "      <th>5</th>\n",
              "      <td>-2.876035</td>\n",
              "      <td>9.050681</td>\n",
              "      <td>0.939126</td>\n",
              "      <td>proband1</td>\n",
              "      <td>running</td>\n",
              "      <td>head</td>\n",
              "      <td>2015-07-04 07:38:09.081</td>\n",
              "    </tr>\n",
              "    <tr>\n",
              "      <th>...</th>\n",
              "      <td>...</td>\n",
              "      <td>...</td>\n",
              "      <td>...</td>\n",
              "      <td>...</td>\n",
              "      <td>...</td>\n",
              "      <td>...</td>\n",
              "      <td>...</td>\n",
              "    </tr>\n",
              "    <tr>\n",
              "      <th>33788</th>\n",
              "      <td>-8.334216</td>\n",
              "      <td>5.079897</td>\n",
              "      <td>0.163404</td>\n",
              "      <td>proband15</td>\n",
              "      <td>running</td>\n",
              "      <td>head</td>\n",
              "      <td>2015-07-18 15:01:05.915</td>\n",
              "    </tr>\n",
              "    <tr>\n",
              "      <th>33789</th>\n",
              "      <td>-8.551490</td>\n",
              "      <td>4.990115</td>\n",
              "      <td>0.199317</td>\n",
              "      <td>proband15</td>\n",
              "      <td>running</td>\n",
              "      <td>head</td>\n",
              "      <td>2015-07-18 15:01:05.933</td>\n",
              "    </tr>\n",
              "    <tr>\n",
              "      <th>33790</th>\n",
              "      <td>-8.688558</td>\n",
              "      <td>4.890756</td>\n",
              "      <td>0.349553</td>\n",
              "      <td>proband15</td>\n",
              "      <td>running</td>\n",
              "      <td>head</td>\n",
              "      <td>2015-07-18 15:01:05.953</td>\n",
              "    </tr>\n",
              "    <tr>\n",
              "      <th>33791</th>\n",
              "      <td>-8.421006</td>\n",
              "      <td>4.831499</td>\n",
              "      <td>0.325611</td>\n",
              "      <td>proband15</td>\n",
              "      <td>running</td>\n",
              "      <td>head</td>\n",
              "      <td>2015-07-18 15:01:05.975</td>\n",
              "    </tr>\n",
              "    <tr>\n",
              "      <th>33792</th>\n",
              "      <td>-8.532336</td>\n",
              "      <td>4.729147</td>\n",
              "      <td>0.412401</td>\n",
              "      <td>proband15</td>\n",
              "      <td>running</td>\n",
              "      <td>head</td>\n",
              "      <td>2015-07-18 15:01:05.992</td>\n",
              "    </tr>\n",
              "  </tbody>\n",
              "</table>\n",
              "<p>7153979 rows × 7 columns</p>\n",
              "</div>\n",
              "      <button class=\"colab-df-convert\" onclick=\"convertToInteractive('df-ba3d4098-fe76-4058-b46c-285c6f482592')\"\n",
              "              title=\"Convert this dataframe to an interactive table.\"\n",
              "              style=\"display:none;\">\n",
              "        \n",
              "  <svg xmlns=\"http://www.w3.org/2000/svg\" height=\"24px\"viewBox=\"0 0 24 24\"\n",
              "       width=\"24px\">\n",
              "    <path d=\"M0 0h24v24H0V0z\" fill=\"none\"/>\n",
              "    <path d=\"M18.56 5.44l.94 2.06.94-2.06 2.06-.94-2.06-.94-.94-2.06-.94 2.06-2.06.94zm-11 1L8.5 8.5l.94-2.06 2.06-.94-2.06-.94L8.5 2.5l-.94 2.06-2.06.94zm10 10l.94 2.06.94-2.06 2.06-.94-2.06-.94-.94-2.06-.94 2.06-2.06.94z\"/><path d=\"M17.41 7.96l-1.37-1.37c-.4-.4-.92-.59-1.43-.59-.52 0-1.04.2-1.43.59L10.3 9.45l-7.72 7.72c-.78.78-.78 2.05 0 2.83L4 21.41c.39.39.9.59 1.41.59.51 0 1.02-.2 1.41-.59l7.78-7.78 2.81-2.81c.8-.78.8-2.07 0-2.86zM5.41 20L4 18.59l7.72-7.72 1.47 1.35L5.41 20z\"/>\n",
              "  </svg>\n",
              "      </button>\n",
              "      \n",
              "  <style>\n",
              "    .colab-df-container {\n",
              "      display:flex;\n",
              "      flex-wrap:wrap;\n",
              "      gap: 12px;\n",
              "    }\n",
              "\n",
              "    .colab-df-convert {\n",
              "      background-color: #E8F0FE;\n",
              "      border: none;\n",
              "      border-radius: 50%;\n",
              "      cursor: pointer;\n",
              "      display: none;\n",
              "      fill: #1967D2;\n",
              "      height: 32px;\n",
              "      padding: 0 0 0 0;\n",
              "      width: 32px;\n",
              "    }\n",
              "\n",
              "    .colab-df-convert:hover {\n",
              "      background-color: #E2EBFA;\n",
              "      box-shadow: 0px 1px 2px rgba(60, 64, 67, 0.3), 0px 1px 3px 1px rgba(60, 64, 67, 0.15);\n",
              "      fill: #174EA6;\n",
              "    }\n",
              "\n",
              "    [theme=dark] .colab-df-convert {\n",
              "      background-color: #3B4455;\n",
              "      fill: #D2E3FC;\n",
              "    }\n",
              "\n",
              "    [theme=dark] .colab-df-convert:hover {\n",
              "      background-color: #434B5C;\n",
              "      box-shadow: 0px 1px 3px 1px rgba(0, 0, 0, 0.15);\n",
              "      filter: drop-shadow(0px 1px 2px rgba(0, 0, 0, 0.3));\n",
              "      fill: #FFFFFF;\n",
              "    }\n",
              "  </style>\n",
              "\n",
              "      <script>\n",
              "        const buttonEl =\n",
              "          document.querySelector('#df-ba3d4098-fe76-4058-b46c-285c6f482592 button.colab-df-convert');\n",
              "        buttonEl.style.display =\n",
              "          google.colab.kernel.accessAllowed ? 'block' : 'none';\n",
              "\n",
              "        async function convertToInteractive(key) {\n",
              "          const element = document.querySelector('#df-ba3d4098-fe76-4058-b46c-285c6f482592');\n",
              "          const dataTable =\n",
              "            await google.colab.kernel.invokeFunction('convertToInteractive',\n",
              "                                                     [key], {});\n",
              "          if (!dataTable) return;\n",
              "\n",
              "          const docLinkHtml = 'Like what you see? Visit the ' +\n",
              "            '<a target=\"_blank\" href=https://colab.research.google.com/notebooks/data_table.ipynb>data table notebook</a>'\n",
              "            + ' to learn more about interactive tables.';\n",
              "          element.innerHTML = '';\n",
              "          dataTable['output_type'] = 'display_data';\n",
              "          await google.colab.output.renderOutput(dataTable, element);\n",
              "          const docLink = document.createElement('div');\n",
              "          docLink.innerHTML = docLinkHtml;\n",
              "          element.appendChild(docLink);\n",
              "        }\n",
              "      </script>\n",
              "    </div>\n",
              "  </div>\n",
              "  "
            ]
          },
          "metadata": {},
          "execution_count": 9
        }
      ]
    },
    {
      "cell_type": "code",
      "source": [
        "acc_data1.to_csv('/content/drive/MyDrive/Colab Notebooks/run_walk_stand_notnormaliz.csv')"
      ],
      "metadata": {
        "id": "RqLpll14vHrz"
      },
      "execution_count": null,
      "outputs": []
    },
    {
      "cell_type": "code",
      "source": [],
      "metadata": {
        "id": "Th9ORPiZyA-u"
      },
      "execution_count": null,
      "outputs": []
    }
  ]
}